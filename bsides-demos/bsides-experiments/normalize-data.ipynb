{
 "cells": [
  {
   "metadata": {},
   "cell_type": "markdown",
   "source": [
    "# Normalize customized dataset\n",
    "\n",
    "This notebook normalizes the cutomized dataset and saves the normalized data to disk."
   ],
   "id": "8b557ea5090ea48b"
  },
  {
   "cell_type": "code",
   "id": "initial_id",
   "metadata": {
    "collapsed": true
   },
   "source": [
    "import os\n",
    "import pandas as pd\n",
    "import seaborn as sns\n",
    "import matplotlib.pyplot as plt\n",
    "from sklearn.utils import shuffle\n",
    "import matplotlib.patches as mpatches\n",
    "from sklearn.preprocessing import normalize"
   ],
   "outputs": [],
   "execution_count": null
  },
  {
   "cell_type": "markdown",
   "source": "# Loading Benign data",
   "metadata": {
    "collapsed": false
   },
   "id": "8de823346ba3f4cb"
  },
  {
   "cell_type": "code",
   "source": [
    "# Both benign chrome and firefox contain DoH and non-DoH traffic\n",
    "DATASET_PATH = '../datasets/'\n",
    "df_benign = pd.read_csv(os.path.join(DATASET_PATH, '', 'all-benign-chrome.csv'))\n",
    "# Add the label column 0 in all rows\n",
    "df_benign['label'] = 0\n",
    "# drop unnecessary columns\n",
    "df_benign = df_benign.drop(columns=['SourceIP', 'DestinationIP', 'TimeStamp', 'SourcePort', 'DestinationPort', 'Duration', 'DoH'])\n",
    "print(df_benign.shape)"
   ],
   "metadata": {
    "collapsed": false
   },
   "id": "3c9f723ca902ffbc",
   "outputs": [],
   "execution_count": null
  },
  {
   "cell_type": "code",
   "source": "display(df_benign.head())",
   "metadata": {
    "collapsed": false
   },
   "id": "ffe96f268a05392f",
   "outputs": [],
   "execution_count": null
  },
  {
   "cell_type": "markdown",
   "source": [
    "# Loading Malicious data"
   ],
   "metadata": {
    "collapsed": false
   },
   "id": "421f08e019bab8a5"
  },
  {
   "cell_type": "code",
   "source": [
    "# Both benign chrome and firefox contain DoH and non-DoH traffic\n",
    "DATASET_PATH = '../datasets/'\n",
    "df_malign = pd.read_csv(os.path.join(DATASET_PATH, '', '27072024-tunnel.csv'))\n",
    "# Add the label column 1 in all rows\n",
    "df_malign['label'] = 1\n",
    "# drop unnecessary columns\n",
    "df_malign = df_malign.drop(columns=['SourceIP', 'DestinationIP', 'TimeStamp', 'SourcePort', 'DestinationPort', 'Duration', 'DoH'])\n",
    "print(df_malign.shape)"
   ],
   "metadata": {
    "collapsed": false
   },
   "id": "97f263f25bbbec83",
   "outputs": [],
   "execution_count": null
  },
  {
   "cell_type": "code",
   "source": "display(df_malign.head())",
   "metadata": {
    "collapsed": false
   },
   "id": "2178584007363b81",
   "outputs": [],
   "execution_count": null
  },
  {
   "cell_type": "markdown",
   "source": [
    "# Merging and shuffling benign and malicious data"
   ],
   "metadata": {
    "collapsed": false
   },
   "id": "f77388b3c92cb173"
  },
  {
   "cell_type": "code",
   "source": "data = shuffle(pd.concat([df_benign, df_malign], ignore_index=True))",
   "metadata": {
    "collapsed": false
   },
   "id": "bff304fd6128b107",
   "outputs": [],
   "execution_count": null
  },
  {
   "cell_type": "code",
   "source": [
    "print(data.shape)\n",
    "display(data.head())"
   ],
   "metadata": {
    "collapsed": false
   },
   "id": "31b69cb67577963b",
   "outputs": [],
   "execution_count": null
  },
  {
   "cell_type": "code",
   "source": [
    "# Checking for missing values\n",
    "data.isnull().sum() # no missing values"
   ],
   "metadata": {
    "collapsed": false
   },
   "id": "ef65489c2e3978fd",
   "outputs": [],
   "execution_count": null
  },
  {
   "cell_type": "code",
   "source": [
    "# Removing the columns with all NaN values\n",
    "data = data.dropna()\n",
    "print(data.shape)\n",
    "data.isnull().sum() # no missing values"
   ],
   "metadata": {
    "collapsed": false
   },
   "id": "2d907e93d378984d",
   "outputs": [],
   "execution_count": null
  },
  {
   "cell_type": "markdown",
   "source": [
    "# Data Exploration and Visualization\n",
    "## 0: Benign, 1: Malicious"
   ],
   "metadata": {
    "collapsed": false
   },
   "id": "fd4a9815849e62f5"
  },
  {
   "cell_type": "code",
   "source": [
    "sns.countplot(x='label', hue='label', data=data, palette=['blue', 'orange'])\n",
    "\n",
    "# Create legend patches\n",
    "legend_labels = ['0: Benign', '1: Malicious']\n",
    "legend_patches = [mpatches.Patch(color=color, label=label) for color, label in zip(['blue', 'orange'], legend_labels)]  \n",
    "\n",
    "# Add legend to the plot\n",
    "plt.legend(handles=legend_patches)\n",
    "plt.show()"
   ],
   "metadata": {
    "collapsed": false
   },
   "id": "4b42a09d0ab0666a",
   "outputs": [],
   "execution_count": null
  },
  {
   "cell_type": "markdown",
   "source": "# Normalizing the data",
   "metadata": {
    "collapsed": false
   },
   "id": "b4482628a9f7d920"
  },
  {
   "cell_type": "code",
   "source": [
    "# Removing no utilized features\n",
    "#data = data.drop(columns=['SourceIP', 'DestinationIP', 'TimeStamp'])\n",
    "# X: features, y: labels\n",
    "X, y = data.drop(columns=['label']), data['label']"
   ],
   "metadata": {
    "collapsed": false
   },
   "id": "44666a50d7c64294",
   "outputs": [],
   "execution_count": null
  },
  {
   "cell_type": "code",
   "source": [
    "# Normalize\n",
    "X = pd.DataFrame(normalize(X, norm='l2', axis=1), columns=data.columns[0:-1])"
   ],
   "metadata": {
    "collapsed": false
   },
   "id": "90c611afbc2ad5b5",
   "outputs": [],
   "execution_count": null
  },
  {
   "metadata": {},
   "cell_type": "code",
   "source": "display(X)",
   "id": "90b3eafa7353588c",
   "outputs": [],
   "execution_count": null
  },
  {
   "metadata": {},
   "cell_type": "code",
   "source": [
    "y = y.reset_index(drop=True)\n",
    "display(y)"
   ],
   "id": "a0d65498d5c53f78",
   "outputs": [],
   "execution_count": null
  },
  {
   "cell_type": "code",
   "source": [
    "# Save X and y to disk\n",
    "X.to_csv('x-e-valente-custom-normalized.csv', sep=',')\n",
    "y.to_csv('y-evalente-custom-normalized.csv', sep=',', header=['label'])"
   ],
   "metadata": {
    "collapsed": false
   },
   "id": "32c6ede84a8b7e92",
   "outputs": [],
   "execution_count": null
  },
  {
   "cell_type": "code",
   "source": [
    "X.head()"
   ],
   "metadata": {
    "collapsed": false
   },
   "id": "89f4dcc5bc290887",
   "outputs": [],
   "execution_count": null
  },
  {
   "cell_type": "markdown",
   "source": "# Feature Names",
   "metadata": {
    "collapsed": false
   },
   "id": "a9a35d295442b640"
  },
  {
   "cell_type": "code",
   "source": [
    "# features names\n",
    "count = 0\n",
    "for val in data.columns.values:\n",
    "  if count == 31:\n",
    "        print(f'{count} -> {val} (not considered as feature)')\n",
    "  else:\n",
    "        print(f'{count} -> {val}')\n",
    "      \n",
    "  count = count + 1"
   ],
   "metadata": {
    "collapsed": false
   },
   "id": "d1f41daf624e3685",
   "outputs": [],
   "execution_count": null
  },
  {
   "cell_type": "code",
   "source": [
    "# Correlation matrix\n",
    "f, ax = plt.subplots(figsize=(20,20))\n",
    "plt.matshow(X.corr('pearson'), f.number)\n",
    "# X is the input features\n",
    "# data.columns[:31] is the feature names\n",
    "plt.xticks(range(X.shape[1]), data.columns[:28], fontsize=10, rotation=90)\n",
    "plt.yticks(range(X.shape[1]), data.columns[0:28], fontsize=10)\n",
    "cb = plt.colorbar()\n",
    "cb.ax.tick_params(labelsize=14)\n",
    "plt.title('Correlation Matrix', fontsize=16);\n",
    "plt.show()"
   ],
   "metadata": {
    "collapsed": false
   },
   "id": "417c5916d7a31772",
   "outputs": [],
   "execution_count": null
  },
  {
   "metadata": {},
   "cell_type": "markdown",
   "source": "# End of the experiments.",
   "id": "d98856b252746625"
  },
  {
   "metadata": {},
   "cell_type": "code",
   "source": "",
   "id": "17bf4479e35b8996",
   "outputs": [],
   "execution_count": null
  }
 ],
 "metadata": {
  "kernelspec": {
   "display_name": "Python 3",
   "language": "python",
   "name": "python3"
  },
  "language_info": {
   "codemirror_mode": {
    "name": "ipython",
    "version": 2
   },
   "file_extension": ".py",
   "mimetype": "text/x-python",
   "name": "python",
   "nbconvert_exporter": "python",
   "pygments_lexer": "ipython2",
   "version": "2.7.6"
  }
 },
 "nbformat": 4,
 "nbformat_minor": 5
}
