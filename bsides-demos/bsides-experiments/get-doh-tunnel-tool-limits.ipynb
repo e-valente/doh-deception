{
 "cells": [
  {
   "cell_type": "code",
   "id": "initial_id",
   "metadata": {
    "collapsed": true
   },
   "source": [
    "import os\n",
    "import pandas as pd\n",
    "from sklearn.preprocessing import normalize"
   ],
   "outputs": [],
   "execution_count": null
  },
  {
   "metadata": {},
   "cell_type": "code",
   "source": "DATASET_PATH = '../datasets/'",
   "id": "ffc480fda41c6ef2",
   "outputs": [],
   "execution_count": null
  },
  {
   "metadata": {},
   "cell_type": "code",
   "source": [
    "# dnstt\n",
    "df_dnstt = pd.read_csv(os.path.join(DATASET_PATH, '', '27072024-tunnel.csv'))\n",
    "print(df_dnstt.shape)\n"
   ],
   "id": "c69e1e8f85eace5d",
   "outputs": [],
   "execution_count": null
  },
  {
   "metadata": {},
   "cell_type": "code",
   "source": "display(df_dnstt.head())",
   "id": "fba530712ba76e33",
   "outputs": [],
   "execution_count": null
  },
  {
   "metadata": {},
   "cell_type": "code",
   "source": [
    "df_dnstt = df_dnstt.drop(columns=['SourceIP', 'DestinationIP', 'TimeStamp', 'SourcePort', 'DestinationPort', 'Duration', 'DoH'])\n",
    "\n"
   ],
   "id": "cad7e030560a9c6e",
   "outputs": [],
   "execution_count": null
  },
  {
   "metadata": {},
   "cell_type": "code",
   "source": [
    "# Removing the columns with all NaN values\n",
    "df_dnstt = df_dnstt.dropna()\n",
    "df_dnstt.isnull().sum()\n"
   ],
   "id": "7a9e3e082c3bc37b",
   "outputs": [],
   "execution_count": null
  },
  {
   "metadata": {},
   "cell_type": "code",
   "source": "df_dnstt = pd.DataFrame(normalize(df_dnstt, norm='l2', axis=1), columns=df_dnstt.columns)",
   "id": "2856bcdc8c4e074b",
   "outputs": [],
   "execution_count": null
  },
  {
   "metadata": {},
   "cell_type": "code",
   "source": [
    "import matplotlib.pyplot as plt\n",
    "import seaborn as sns\n",
    "\n",
    "# Number of columns per row\n",
    "columns_per_row = 6\n",
    "\n",
    "# Create a figure with specified dimensions\n",
    "fig, axs = plt.subplots(nrows=1, ncols=columns_per_row, figsize=(24, 6))  # Adjust figsize as needed\n",
    "fig.tight_layout(pad=3.0)  # Adjust padding between plots\n",
    "\n",
    "# Counter to keep track of current plot\n",
    "plot_count = 0\n",
    "\n",
    "# Iterate through columns in the DataFrame\n",
    "for column in df_dnstt.columns:\n",
    "    # Select the subplot position\n",
    "    ax = axs[plot_count]\n",
    "    \n",
    "    # Create the histogram in the specified subplot\n",
    "    sns.histplot(df_dnstt[column], bins=15, kde=True, ax=ax)\n",
    "    ax.set_title(f'Distribution of {column}')  # Optional: set title for each subplot\n",
    "    \n",
    "    # Increment plot counter\n",
    "    plot_count += 1\n",
    "    \n",
    "    # Check if the plot counter reaches the columns per row limit\n",
    "    if plot_count == columns_per_row:\n",
    "        # Show the current figure with 3 plots\n",
    "        plt.show()\n",
    "        \n",
    "        # Create a new figure for the next row of plots\n",
    "        fig, axs = plt.subplots(nrows=1, ncols=columns_per_row, figsize=(24, 6))\n",
    "        fig.tight_layout(pad=3.0)\n",
    "        \n",
    "        # Reset the plot counter\n",
    "        plot_count = 0\n",
    "\n",
    "# If the number of total columns isn't a multiple of columns_per_row,\n",
    "# we may need to show the last figure with less than columns_per_row plots.\n",
    "if plot_count != 0:\n",
    "    plt.show()"
   ],
   "id": "d908e2bebe72822e",
   "outputs": [],
   "execution_count": null
  },
  {
   "metadata": {},
   "cell_type": "code",
   "source": "df_limits = {}",
   "id": "4ef13e15f4f08d5c",
   "outputs": [],
   "execution_count": null
  },
  {
   "metadata": {},
   "cell_type": "code",
   "source": [
    "# tool\n",
    "tool = 'dnstt'\n",
    "df_limits[tool] = {}\n",
    "\n",
    "for column in df_dnstt.columns:\n",
    "    min_value = df_dnstt[column].quantile(0.01)\n",
    "    df_limits[tool][column] = {}\n",
    "    df_limits[tool][column]['min'] = min_value\n",
    "    max_value = df_dnstt[column].quantile(0.99)\n",
    "    df_limits[tool][column]['max'] = max_value\n",
    "    #print(f'Column: {column}, Min: {min_value}, Max: {max_value}')"
   ],
   "id": "edcb83fc3d567ff2",
   "outputs": [],
   "execution_count": null
  },
  {
   "metadata": {},
   "cell_type": "markdown",
   "source": "# Generate csv output",
   "id": "aa62c0e79e7a8ef2"
  },
  {
   "metadata": {},
   "cell_type": "code",
   "source": [
    "tools = ['dnstt']\n",
    "#tools = ['dns2tcp', 'dnscat2', 'iodine']\n",
    "\n",
    "output_dir = './'\n",
    "for tool in tools:\n",
    "    fp = open(f'{output_dir}/{tool}-limits.csv', 'w')\n",
    "    #count = 0\n",
    "    #fp.write('Feature,Min,Max\\n')\n",
    "    fp.write('min,max\\n')\n",
    "    for column in df_dnstt.columns:\n",
    "        fp.write(f'{df_limits[tool][column][\"min\"]},{df_limits[tool][column][\"max\"]}\\n')\n",
    "        #count += 1\n",
    "    fp.close()"
   ],
   "id": "bbfca9c4c0c226ea",
   "outputs": [],
   "execution_count": null
  }
 ],
 "metadata": {
  "kernelspec": {
   "display_name": "Python 3",
   "language": "python",
   "name": "python3"
  },
  "language_info": {
   "codemirror_mode": {
    "name": "ipython",
    "version": 2
   },
   "file_extension": ".py",
   "mimetype": "text/x-python",
   "name": "python",
   "nbconvert_exporter": "python",
   "pygments_lexer": "ipython2",
   "version": "2.7.6"
  }
 },
 "nbformat": 4,
 "nbformat_minor": 5
}
