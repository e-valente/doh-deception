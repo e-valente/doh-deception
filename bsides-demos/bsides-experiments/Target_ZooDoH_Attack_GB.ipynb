{
 "cells": [
  {
   "metadata": {},
   "cell_type": "markdown",
   "source": [
    "# Zeroth Order Optimization (ZOO) Attack Experiments - Targeted DoH\n",
    "## Warning: Before running this notebook, make sure you ran the following steps :\n",
    "1. Normalize data: [normalize-data.ipynb](./bsides-experiments/normalize-data.ipynb)\n",
    "2. Train a model: [build_model.ipynb](./bsides-experiments/build_model.ipynb)\n",
    "3. Get DoH tunnel tools feature limits: [get-doh-tunnel-tool-limits.ipynb](./bsides-experiments/get-doh-tunnel-tool-limits.ipynb)\n",
    "4. Increase/decrease the feature limits according to your needs: Edit the file `dnstt-limits-prod.csv`\n",
    "5. Choose features to attack: Edit the array `features_to_attack` on this notebook "
   ],
   "id": "7f2953da7baefeea"
  },
  {
   "cell_type": "code",
   "id": "initial_id",
   "metadata": {
    "collapsed": true
   },
   "source": [
    "import numpy as np\n",
    "import pandas as pd\n",
    "\n",
    "from joblib import dump, load\n",
    "\n",
    "#!pip install adversarial-robustness-toolbox\n",
    "from art.estimators.classification import SklearnClassifier"
   ],
   "outputs": [],
   "execution_count": null
  },
  {
   "metadata": {},
   "cell_type": "markdown",
   "source": "# Loading Dataset",
   "id": "1be31c9f6e8d2070"
  },
  {
   "metadata": {},
   "cell_type": "code",
   "source": "input_dir = '../datasets/'",
   "id": "7dcc00a5e0693b63",
   "outputs": [],
   "execution_count": null
  },
  {
   "metadata": {},
   "cell_type": "code",
   "source": "X_features_dnstt_file = input_dir + '27072024-tunnel.csv'",
   "id": "c1265b452cca4598",
   "outputs": [],
   "execution_count": null
  },
  {
   "metadata": {},
   "cell_type": "code",
   "source": [
    "from sklearn.preprocessing import normalize\n",
    "\n",
    "# Load the X_features \n",
    "X_features_dnstt = pd.read_csv(X_features_dnstt_file, sep=',')\n",
    "\n",
    "# concat all features\n",
    "X = pd.concat([X_features_dnstt])\n",
    "X = X.drop(columns=['SourceIP', 'DestinationIP', 'TimeStamp', 'SourcePort', 'DestinationPort', 'Duration', 'DoH'])\n",
    "\n",
    "# Set display option to show all columns\n",
    "#pd.set_option('display.max_columns', None)\n",
    "#from IPython.display import display\n",
    "display(X.head())"
   ],
   "id": "8e527b0f88b8d8fc",
   "outputs": [],
   "execution_count": null
  },
  {
   "metadata": {},
   "cell_type": "code",
   "source": [
    "# Normalize the features\n",
    "# We got the l2_norms to unnormalize the features after the attack\n",
    "l2_norms = np.linalg.norm(X, axis=1, keepdims=True)\n",
    "X = pd.DataFrame(normalize(X, norm='l2', axis=1), columns=X.columns)\n",
    "display(X.head())"
   ],
   "id": "b926f2b6f964b595",
   "outputs": [],
   "execution_count": null
  },
  {
   "metadata": {},
   "cell_type": "markdown",
   "source": "# Attacking",
   "id": "8505ea6b521bc859"
  },
  {
   "metadata": {},
   "cell_type": "code",
   "source": "model_input_dir = './'",
   "id": "c5d630a13362c8e9",
   "outputs": [],
   "execution_count": null
  },
  {
   "metadata": {},
   "cell_type": "markdown",
   "source": "# Evaluating Constrained Zoo-DoH - DNSTT",
   "id": "8d4a11497c36b660"
  },
  {
   "metadata": {},
   "cell_type": "code",
   "source": [
    "# Load the X_features\n",
    "# Convert the DataFrame to a NumPy array\n",
    "X_test = np.array(X)"
   ],
   "id": "eb9d8da48f25db9c",
   "outputs": [],
   "execution_count": null
  },
  {
   "metadata": {},
   "cell_type": "code",
   "source": "display(X_test.shape[0])",
   "id": "c5bdaaa47c517d46",
   "outputs": [],
   "execution_count": null
  },
  {
   "metadata": {},
   "cell_type": "code",
   "source": [
    "# Load doh tunnel tools feature limits\n",
    "input_dir = './'\n",
    "features_limits = pd.read_csv(f'{input_dir}/dnstt-limits-prod.csv', sep=',')\n",
    "min_val = features_limits['min'].to_numpy()\n",
    "max_val = features_limits['max'].to_numpy()\n",
    "clip_values = (min_val, max_val)"
   ],
   "id": "a0b4392b3addaf3c",
   "outputs": [],
   "execution_count": null
  },
  {
   "metadata": {},
   "cell_type": "code",
   "source": "print(clip_values)\n",
   "id": "f57f9012a4ab72a5",
   "outputs": [],
   "execution_count": null
  },
  {
   "metadata": {},
   "cell_type": "markdown",
   "source": "# Attacking Target DoH",
   "id": "e955306ee5911106"
  },
  {
   "metadata": {},
   "cell_type": "code",
   "source": [
    "import myzoo.target_zoo as zoo_targeted\n",
    "model_filename = 'GradientBoosting-e-valente-customized.joblib'\n",
    "model = load(model_input_dir + model_filename)\n",
    "\n",
    "# Create blackbox object\n",
    "art_classifier = SklearnClassifier(model=model, clip_values=clip_values)\n",
    "\n",
    "# Features to attack\n",
    "# 0 -> FlowBytesSent\n",
    "# 1 -> FlowSentRate\n",
    "# 2 -> FlowBytesReceived \n",
    "# 3 -> FlowReceivedRate    \n",
    "# 4 -> PacketLengthVariance\n",
    "# 5 -> PacketLengthStandardDeviation\n",
    "# 6 -> PacketLengthMean\n",
    "# 7 -> PacketLengthMedian\n",
    "# 8 -> PacketLengthMode  \n",
    "# 9 -> PacketLengthSkewFromMedian  \n",
    "# 10 -> PacketLengthSkewFromMode\n",
    "# 11 -> PacketLengthCoefficientofVariation\n",
    "# 12 -> PacketTimeVariance\n",
    "# 13 -> PacketTimeStandardDeviation\n",
    "# 14 -> PacketTimeMean\n",
    "# 15 -> PacketTimeMedian\n",
    "# 16 -> PacketTimeMode\n",
    "# 17 -> PacketTimeSkewFromMedian\n",
    "# 18 -> PacketTimeSkewFromMode\n",
    "# 19 -> PacketTimeCoefficientofVariation\n",
    "# 20 -> ResponseTimeVariance\n",
    "# 21 -> ResponseTimeStandardDeviation\n",
    "# 22 -> ResponseTimeMean\n",
    "# 23 -> ResponseTimeMedian\n",
    "# 24 -> ResponseTimeMode\n",
    "# 25 -> ResponseTimeSkewFromMedian\n",
    "# 26 -> ResponseTimeSkewFromMode\n",
    "# 27 -> ResponseTimeCoefficientofVariation\n",
    "features_to_attack = [0, 1, 4, 5, 6, 12, 13, 14]\n",
    "\n",
    "# Create ART Zeroth Order Optimization attack\n",
    "zoo = zoo_targeted.ZooAttack(classifier=art_classifier, confidence=0.0, targeted=True, learning_rate=1e-3, max_iter=30,\n",
    "                    binary_search_steps=10, initial_const=1e-3, abort_early=True, use_importance=False, nb_parallel=1, \n",
    "                        batch_size=1, variable_h=0.2, feature_indices=features_to_attack, verbose=True)"
   ],
   "id": "3fca46c3143c3047",
   "outputs": [],
   "execution_count": null
  },
  {
   "metadata": {},
   "cell_type": "code",
   "source": [
    "#attacking\n",
    "size_data = len(X_test)\n",
    "x_test_adv = zoo.generate(X_test, np.zeros(size_data, dtype='int'))"
   ],
   "id": "83266fa9f1e11988",
   "outputs": [],
   "execution_count": null
  },
  {
   "metadata": {},
   "cell_type": "code",
   "source": [
    "# attack success rate\n",
    "success = 0\n",
    "total_to_attack = 0\n",
    "\n",
    "success_indices = []\n",
    "for i in range(size_data):\n",
    "  prediction_before_attack = model.predict(X_test[i].reshape(1, -1))\n",
    "  prediction_after_attack = model.predict(x_test_adv[i].reshape(1, -1))\n",
    "\n",
    "  if prediction_before_attack == [1]:\n",
    "    total_to_attack = total_to_attack + 1\n",
    "\n",
    "    if prediction_after_attack == [0]:\n",
    "      success = success + 1\n",
    "      success_indices.append(i)\n",
    "  \n",
    "print(f'total samples to be attacked (malicious samples) {total_to_attack}')\n",
    "\n",
    "print(f'total success (malicious -> benign) {success}')\n",
    "print(f'total percent samples successfully attacked {success/total_to_attack}')"
   ],
   "id": "e620c82b74db1010",
   "outputs": [],
   "execution_count": null
  },
  {
   "metadata": {},
   "cell_type": "code",
   "source": [
    "# Get the four indices of the samples that were successfully attacked\n",
    "for i in success_indices:\n",
    "    diff = abs(x_test_adv[i] * l2_norms[i])- (X_test[i] * l2_norms[i])\n",
    "    #print(diff)\n",
    "    # get the four biggest difference indices\n",
    "    biggest_indices = np.argsort(diff)[-5:]\n",
    "    for j in biggest_indices:\n",
    "        print(f'{X.columns[j]}: {diff[j]}')\n",
    "    \n",
    "    print(\"======\")"
   ],
   "id": "2c064275342c86ce",
   "outputs": [],
   "execution_count": null
  },
  {
   "metadata": {},
   "cell_type": "code",
   "source": [
    "# Print Data\n",
    "for i in success_indices:\n",
    "    print(\"Original data: \")\n",
    "    print(X_test[i] * l2_norms[i])\n",
    "    print(\"Attacked Data:\")\n",
    "    print(x_test_adv[i] * l2_norms[i])\n",
    "    print(\"-------\\n\")\n",
    " "
   ],
   "id": "4f22b60fd8af89ef",
   "outputs": [],
   "execution_count": null
  }
 ],
 "metadata": {
  "kernelspec": {
   "display_name": "Python 3",
   "language": "python",
   "name": "python3"
  },
  "language_info": {
   "codemirror_mode": {
    "name": "ipython",
    "version": 2
   },
   "file_extension": ".py",
   "mimetype": "text/x-python",
   "name": "python",
   "nbconvert_exporter": "python",
   "pygments_lexer": "ipython2",
   "version": "2.7.6"
  }
 },
 "nbformat": 4,
 "nbformat_minor": 5
}
