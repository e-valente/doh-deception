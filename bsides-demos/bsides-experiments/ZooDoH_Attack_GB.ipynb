{
 "cells": [
  {
   "metadata": {},
   "cell_type": "markdown",
   "source": [
    "# Zeroth Order Optimization (ZOO) Attack Experiments - Zoo-DoH\n",
    "## Warning: Before running this notebook, make sure you normalized the features (normalize-data.ipynb) and build the model (build_model.ipynb)\n"
   ],
   "id": "7f2953da7baefeea"
  },
  {
   "cell_type": "code",
   "id": "initial_id",
   "metadata": {
    "collapsed": true
   },
   "source": [
    "import numpy as np\n",
    "import pandas as pd\n",
    "\n",
    "from joblib import dump, load\n",
    "\n",
    "#!pip install adversarial-robustness-toolbox\n",
    "from art.estimators.classification import SklearnClassifier"
   ],
   "outputs": [],
   "execution_count": null
  },
  {
   "metadata": {},
   "cell_type": "markdown",
   "source": "# Loading Dataset",
   "id": "1be31c9f6e8d2070"
  },
  {
   "metadata": {},
   "cell_type": "code",
   "source": "input_dir = '../datasets/'",
   "id": "7dcc00a5e0693b63",
   "outputs": [],
   "execution_count": null
  },
  {
   "metadata": {},
   "cell_type": "code",
   "source": "X_features_dnstt_file = input_dir + '27072024-tunnel.csv'",
   "id": "c1265b452cca4598",
   "outputs": [],
   "execution_count": null
  },
  {
   "metadata": {},
   "cell_type": "code",
   "source": [
    "from sklearn.preprocessing import normalize\n",
    "\n",
    "# Load the X_features \n",
    "X_features_dnstt = pd.read_csv(X_features_dnstt_file, sep=',')\n",
    "\n",
    "# concat all features\n",
    "X = pd.concat([X_features_dnstt])\n",
    "X = X.drop(columns=['SourceIP', 'DestinationIP', 'TimeStamp', 'SourcePort', 'DestinationPort', 'Duration', 'DoH'])\n",
    "\n",
    "display(X)"
   ],
   "id": "8e527b0f88b8d8fc",
   "outputs": [],
   "execution_count": null
  },
  {
   "metadata": {},
   "cell_type": "code",
   "source": [
    "# Normalize the features\n",
    "X = pd.DataFrame(normalize(X, norm='l2', axis=1), columns=X.columns)\n",
    "display(X.head())"
   ],
   "id": "b926f2b6f964b595",
   "outputs": [],
   "execution_count": null
  },
  {
   "metadata": {},
   "cell_type": "markdown",
   "source": "# Attacking",
   "id": "8505ea6b521bc859"
  },
  {
   "metadata": {},
   "cell_type": "code",
   "source": "model_input_dir = './'",
   "id": "c5d630a13362c8e9",
   "outputs": [],
   "execution_count": null
  },
  {
   "metadata": {},
   "cell_type": "markdown",
   "source": "# Evaluating Constrained Zoo-DoH - DNSTT - GradientBoosting",
   "id": "8d4a11497c36b660"
  },
  {
   "metadata": {},
   "cell_type": "code",
   "source": [
    "# Load the X_features\n",
    "# Convert the DataFrame to a NumPy array\n",
    "X_test = np.array(X)"
   ],
   "id": "eb9d8da48f25db9c",
   "outputs": [],
   "execution_count": null
  },
  {
   "metadata": {},
   "cell_type": "code",
   "source": "display(X_test.shape[0])",
   "id": "c5bdaaa47c517d46",
   "outputs": [],
   "execution_count": null
  },
  {
   "metadata": {},
   "cell_type": "code",
   "source": [
    "import myzoo.zoo_doh as zoo_doh\n",
    "\n",
    "model_filename = 'GradientBoosting-e-valente-customized.joblib'\n",
    "model = load(model_input_dir + model_filename)\n",
    "\n",
    "# Create blackbox object\n",
    "art_classifier = SklearnClassifier(model=model)\n",
    "\n",
    "# Create ART Zeroth Order Optimization attack\n",
    "zoo = zoo_doh.ZooAttack(classifier=art_classifier, confidence=0.0, targeted=True, learning_rate=1e-2, max_iter=20,\n",
    "                    binary_search_steps=10, initial_const=1e-3, abort_early=True, use_importance=False, nb_parallel=1, \n",
    "                        batch_size=1, variable_h=0.2)"
   ],
   "id": "ebc7dc7d2ceacd14",
   "outputs": [],
   "execution_count": null
  },
  {
   "metadata": {},
   "cell_type": "code",
   "source": [
    "# attacking\n",
    "size_data = len(X_test)\n",
    "x_test_adv = zoo.generate(X_test, np.zeros(size_data, dtype='int'))"
   ],
   "id": "3f68d6ce6d96142f",
   "outputs": [],
   "execution_count": null
  },
  {
   "metadata": {},
   "cell_type": "code",
   "source": [
    "# attack success rate\n",
    "success = 0\n",
    "total_to_attack = 0\n",
    "\n",
    "success_indices = []\n",
    "for i in range(size_data):\n",
    "  prediction_before_attack = model.predict(X_test[i].reshape(1, -1))\n",
    "  prediction_after_attack = model.predict(x_test_adv[i].reshape(1, -1))\n",
    "\n",
    "  if prediction_before_attack == [1]:\n",
    "    total_to_attack = total_to_attack + 1\n",
    "\n",
    "    if prediction_after_attack == [0]:\n",
    "      success = success + 1\n",
    "      success_indices.append(i)\n",
    "  \n",
    "print(f'total samples to be attacked (malicious samples) {total_to_attack}')\n",
    "\n",
    "print(f'total success (malicious -> benign) {success}')\n",
    "print(f'total percent samples successfully attacked {success/total_to_attack}')"
   ],
   "id": "424129ed83c833f3",
   "outputs": [],
   "execution_count": null
  },
  {
   "metadata": {},
   "cell_type": "code",
   "source": "",
   "id": "921dfd5a37f2b52a",
   "outputs": [],
   "execution_count": null
  }
 ],
 "metadata": {
  "kernelspec": {
   "display_name": "Python 3",
   "language": "python",
   "name": "python3"
  },
  "language_info": {
   "codemirror_mode": {
    "name": "ipython",
    "version": 2
   },
   "file_extension": ".py",
   "mimetype": "text/x-python",
   "name": "python",
   "nbconvert_exporter": "python",
   "pygments_lexer": "ipython2",
   "version": "2.7.6"
  }
 },
 "nbformat": 4,
 "nbformat_minor": 5
}
