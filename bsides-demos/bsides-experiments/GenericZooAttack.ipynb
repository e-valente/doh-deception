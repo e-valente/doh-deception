{
 "cells": [
  {
   "cell_type": "code",
   "id": "initial_id",
   "metadata": {
    "collapsed": true
   },
   "source": [
    "from sklearn.ensemble import GradientBoostingClassifier\n",
    "\n",
    "import numpy as np\n",
    "from matplotlib import pyplot as plt\n",
    "\n",
    "from art.estimators.classification import SklearnClassifier\n",
    "from art.attacks.evasion import ZooAttack\n",
    "from art.utils import load_mnist\n",
    "\n",
    "import warnings\n",
    "warnings.filterwarnings('ignore')"
   ],
   "outputs": [],
   "execution_count": null
  },
  {
   "metadata": {},
   "cell_type": "markdown",
   "source": "# 1 Training scikit-learn GradientBoostingClassifier and attacking with ART Zeroth Order Optimization attack",
   "id": "b49ade72661c75b0"
  },
  {
   "metadata": {},
   "cell_type": "markdown",
   "source": "# 1.1 Load and transform MNIST dataset\n",
   "id": "80fa3a60edf4e0ae"
  },
  {
   "metadata": {},
   "cell_type": "code",
   "source": [
    "(x_train, y_train), (x_test, y_test), min_, max_ = load_mnist()\n",
    "\n",
    "n_samples_train = x_train.shape[0]\n",
    "n_features_train = x_train.shape[1] * x_train.shape[2] * x_train.shape[3]\n",
    "n_samples_test = x_test.shape[0]\n",
    "n_features_test = x_test.shape[1] * x_test.shape[2] * x_test.shape[3]\n",
    "\n",
    "x_train = x_train.reshape(n_samples_train, n_features_train)\n",
    "x_test = x_test.reshape(n_samples_test, n_features_test)\n",
    "\n",
    "y_train = np.argmax(y_train, axis=1)\n",
    "y_test = np.argmax(y_test, axis=1)\n",
    "\n",
    "n_samples_max = 200\n",
    "x_train = x_train[0:n_samples_max]\n",
    "y_train = y_train[0:n_samples_max]\n",
    "x_test = x_test[0:n_samples_max]\n",
    "y_test = y_test[0:n_samples_max]\n"
   ],
   "id": "1b56c1f483a526d9",
   "outputs": [],
   "execution_count": null
  },
  {
   "metadata": {},
   "cell_type": "markdown",
   "source": "# 1.2 Train GradientBoostingClassifier classifier\n",
   "id": "2e0f3ee7d3f4682a"
  },
  {
   "metadata": {},
   "cell_type": "code",
   "source": [
    "model = GradientBoostingClassifier(learning_rate=0.1, n_estimators=100, subsample=1.0, \n",
    "                                   criterion='friedman_mse', min_samples_split=2, min_samples_leaf=1, \n",
    "                                   min_weight_fraction_leaf=0.0, max_depth=3, min_impurity_decrease=0.0, init=None, random_state=None, max_features=None, verbose=0, max_leaf_nodes=None, warm_start=False, validation_fraction=0.1, n_iter_no_change=None, tol=0.0001)\n",
    "model.fit(X=x_train, y=y_train)"
   ],
   "id": "32b285761979f080",
   "outputs": [],
   "execution_count": null
  },
  {
   "metadata": {},
   "cell_type": "markdown",
   "source": "# 1.3 Create and apply Zeroth Order Optimization Attack with ART\n",
   "id": "6b5fbb439efee519"
  },
  {
   "metadata": {},
   "cell_type": "code",
   "source": "art_classifier = SklearnClassifier(model=model)",
   "id": "569cd1d275093706",
   "outputs": [],
   "execution_count": null
  },
  {
   "metadata": {},
   "cell_type": "code",
   "source": [
    "zoo = ZooAttack(classifier=art_classifier, confidence=0.0, targeted=False, learning_rate=1e-1, max_iter=100,\n",
    "                binary_search_steps=20, initial_const=1e-3, abort_early=True, use_resize=False, \n",
    "                use_importance=False, nb_parallel=10, batch_size=1, variable_h=0.25)\n",
    "\n",
    "# Targeted attack (e.g., the Zoo Attack will try to modify images so that they are classified as 2)\n",
    "# zoo = ZooAttack(classifier=art_classifier, confidence=0.0, targeted=True, learning_rate=1e-1, max_iter=100, binary_search_steps=20, initial_const=1e-3, abort_early=True, use_resize=False, use_importance=False, nb_parallel=10, batch_size=1, variable_h=0.25)"
   ],
   "id": "9fe2cf5febe557f7",
   "outputs": [],
   "execution_count": null
  },
  {
   "metadata": {},
   "cell_type": "code",
   "source": [
    "x_train_adv = zoo.generate(x_train)\n",
    "# Uncomment the line below to generate Targeted adversarial samples\n",
    "#x_train_adv = zoo.generate(x_train, np.full(len(x_train), 2, dtype='int'))\n"
   ],
   "id": "bffd643cad86a550",
   "outputs": [],
   "execution_count": null
  },
  {
   "metadata": {},
   "cell_type": "markdown",
   "source": "# 1.4 Evaluate GradientBoostingClassifier on benign and adversarial samples\n",
   "id": "902dd0e5a066a546"
  },
  {
   "metadata": {},
   "cell_type": "code",
   "source": [
    "score = model.score(x_train, y_train)\n",
    "print(\"Benign Training Score: %.4f\" % score)\n",
    "#score = model.score(x_test, y_test)\n",
    "#print(\"Benign Training Score: %.4f\" % score)"
   ],
   "id": "875fb497665871ca",
   "outputs": [],
   "execution_count": null
  },
  {
   "metadata": {},
   "cell_type": "markdown",
   "source": "# Checking Attack",
   "id": "dbce969dc51f4b40"
  },
  {
   "metadata": {},
   "cell_type": "code",
   "source": [
    "# Image instance to check the attack\n",
    "index_instance = 2"
   ],
   "id": "34db9003b4a8046f",
   "outputs": [],
   "execution_count": null
  },
  {
   "metadata": {},
   "cell_type": "code",
   "source": [
    "plt.matshow(x_train[index_instance, :].reshape((28, 28)))\n",
    "plt.clim(0, 1)"
   ],
   "id": "dac99fbd710e3bf5",
   "outputs": [],
   "execution_count": null
  },
  {
   "metadata": {},
   "cell_type": "code",
   "source": [
    "prediction = model.predict(x_train[index_instance].reshape(1, -1))\n",
    "print(\"Benign Training Predicted Label: %i\" % prediction)"
   ],
   "id": "465e17ee38342610",
   "outputs": [],
   "execution_count": null
  },
  {
   "metadata": {},
   "cell_type": "code",
   "source": [
    "plt.matshow(x_train_adv[index_instance, :].reshape((28, 28)))\n",
    "plt.clim(0, 1)"
   ],
   "id": "2918c6c7f503a67a",
   "outputs": [],
   "execution_count": null
  },
  {
   "metadata": {},
   "cell_type": "code",
   "source": [
    "prediction = model.predict(x_train_adv[index_instance].reshape(1, -1))\n",
    "print(\"Adversarial Training Predicted Label: %i\" % prediction)"
   ],
   "id": "f7f1d7a492f4947f",
   "outputs": [],
   "execution_count": null
  },
  {
   "metadata": {},
   "cell_type": "markdown",
   "source": "# 1.5 Compare both images side by side",
   "id": "c5f40134a74d594b"
  },
  {
   "metadata": {},
   "cell_type": "code",
   "source": [
    "fig, axs = plt.subplots(1, 2)\n",
    "axs[0].matshow(x_train[index_instance, :].reshape((28, 28)))\n",
    "axs[0].set_title(f\"Original - Classified as {model.predict(x_train[index_instance].reshape(1, -1))[0]}\")\n",
    "axs[0].axis('off')\n",
    "axs[0].images[0].set_clim(0, 1) \n",
    "\n",
    "axs[1].matshow(x_train_adv[index_instance, :].reshape((28, 28)))\n",
    "axs[1].set_title(f\"Adversarial - Classified as {model.predict(x_train_adv[index_instance].reshape(1, -1))[0]}\")\n",
    "axs[1].axis('off')\n",
    "axs[1].images[0].set_clim(0, 1) \n",
    "plt.show()"
   ],
   "id": "b87d2c25ae463dca",
   "outputs": [],
   "execution_count": null
  },
  {
   "metadata": {},
   "cell_type": "markdown",
   "source": "\n",
   "id": "a83d653acd227a23"
  },
  {
   "metadata": {},
   "cell_type": "code",
   "source": "",
   "id": "be78264470ad40a8",
   "outputs": [],
   "execution_count": null
  }
 ],
 "metadata": {
  "kernelspec": {
   "display_name": "Python 3",
   "language": "python",
   "name": "python3"
  },
  "language_info": {
   "codemirror_mode": {
    "name": "ipython",
    "version": 2
   },
   "file_extension": ".py",
   "mimetype": "text/x-python",
   "name": "python",
   "nbconvert_exporter": "python",
   "pygments_lexer": "ipython2",
   "version": "2.7.6"
  }
 },
 "nbformat": 4,
 "nbformat_minor": 5
}
